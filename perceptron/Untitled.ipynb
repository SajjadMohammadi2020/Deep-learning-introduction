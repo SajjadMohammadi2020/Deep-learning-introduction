{
 "cells": [
  {
   "cell_type": "code",
   "execution_count": 9,
   "id": "047159d3",
   "metadata": {},
   "outputs": [],
   "source": [
    "import numpy as np\n",
    "import sklearn\n",
    "import matplotlib.pyplot as plt\n",
    "import pandas as pd"
   ]
  },
  {
   "cell_type": "code",
   "execution_count": 13,
   "id": "685b4645",
   "metadata": {},
   "outputs": [],
   "source": [
    "## load iris data set\n",
    "from sklearn import datasets\n",
    "data = (datasets.load_iris())\n",
    "x = data.data\n",
    "y = data.target"
   ]
  },
  {
   "cell_type": "code",
   "execution_count": 15,
   "id": "879bf75b",
   "metadata": {},
   "outputs": [
    {
     "name": "stdout",
     "output_type": "stream",
     "text": [
      "coef's of perceptron : \n",
      " [[  1.9   6.   -8.8  -3.9]\n",
      " [ 18.7 -27.6  11.2 -24.1]\n",
      " [-37.4 -29.2  52.6  54.5]]\n",
      "intercept of perceptron : \n",
      " [  1.  16. -22.]\n"
     ]
    }
   ],
   "source": [
    "## import and fit perceptron on x and y \n",
    "from sklearn import linear_model\n",
    "perc = linear_model.Perceptron()\n",
    "perc.fit(x,y)\n",
    "print(\"coef's of perceptron : \\n\" , perc.coef_)\n",
    "print(\"intercept of perceptron : \\n\" , perc.intercept_)"
   ]
  },
  {
   "cell_type": "code",
   "execution_count": 17,
   "id": "ba6b5866",
   "metadata": {},
   "outputs": [
    {
     "name": "stdout",
     "output_type": "stream",
     "text": [
      "[1 1 1 1 1 1 0 1 1 1 1 1 1 1 0 0 0 1 1 0 1 0 0 1 1 1 1 1 1 1 1 1 0 0 1 1 1\n",
      " 1 1 1 1 1 1 1 1 1 1 1 1 1 1 1 1 1 1 1 1 1 1 1 1 1 1 1 1 1 1 1 1 1 1 1 1 1\n",
      " 1 1 1 1 1 1 1 1 1 1 1 1 1 1 1 1 1 1 1 1 1 1 1 1 1 1 2 1 1 1 2 1 2 1 1 2 1\n",
      " 1 1 2 2 1 1 1 1 1 1 2 1 1 1 1 1 1 1 1 1 1 2 1 1 1 2 1 1 1 2 1 1 2 2 1 1 1\n",
      " 2 1]\n"
     ]
    }
   ],
   "source": [
    "## predict y_hat from x using perceptron\n",
    "y_hat = perc.predict(x)\n",
    "print(y_hat)"
   ]
  },
  {
   "cell_type": "code",
   "execution_count": 23,
   "id": "5130a1c9",
   "metadata": {},
   "outputs": [
    {
     "name": "stdout",
     "output_type": "stream",
     "text": [
      "r2 score :  0.21999999999999997\n",
      "MAE :  0.52\n",
      "MSE :  0.52\n",
      "score : 0.48\n"
     ]
    }
   ],
   "source": [
    "## calc scores metrics for prediction\n",
    "from sklearn.metrics import r2_score\n",
    "print(\"r2 score : \" , r2_score(y,y_hat))\n",
    "print(\"MAE : \" , sum(abs(y - y_hat)) / len(y))\n",
    "print(\"MSE : \" , sum((y-y_hat)**2) / len(y) )\n",
    "print(\"score :\" , perc.score(x,y))"
   ]
  },
  {
   "cell_type": "code",
   "execution_count": null,
   "id": "f16cc1af",
   "metadata": {},
   "outputs": [],
   "source": []
  }
 ],
 "metadata": {
  "kernelspec": {
   "display_name": "Python 3 (ipykernel)",
   "language": "python",
   "name": "python3"
  },
  "language_info": {
   "codemirror_mode": {
    "name": "ipython",
    "version": 3
   },
   "file_extension": ".py",
   "mimetype": "text/x-python",
   "name": "python",
   "nbconvert_exporter": "python",
   "pygments_lexer": "ipython3",
   "version": "3.10.7"
  }
 },
 "nbformat": 4,
 "nbformat_minor": 5
}
